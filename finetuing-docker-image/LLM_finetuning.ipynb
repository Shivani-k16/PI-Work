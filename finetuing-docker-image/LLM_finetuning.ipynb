{
 "cells": [
  {
   "cell_type": "markdown",
   "id": "454d8843-8dd1-46e5-90d5-bd5fc9bef867",
   "metadata": {},
   "source": [
    "# QLoRA with Bitsandbytes on Intel GPU"
   ]
  },
  {
   "cell_type": "markdown",
   "id": "230a2cf3-de1f-4182-b03f-eadfd2726af4",
   "metadata": {},
   "source": [
    "## 1. Sanity check PyTorch version and XPU devices"
   ]
  },
  {
   "cell_type": "code",
   "execution_count": 1,
   "id": "c0896c5a-ccfa-4848-a00d-4031b61fed30",
   "metadata": {},
   "outputs": [
    {
     "name": "stdout",
     "output_type": "stream",
     "text": [
      "2.6.0+cu124\n"
     ]
    }
   ],
   "source": [
    "import torch\n",
    "print(torch.__version__)\n",
    "[print(f'[{i}]: {torch.xpu.get_device_properties(i)}') for i in range(torch.xpu.device_count())];"
   ]
  },
  {
   "cell_type": "markdown",
   "id": "a7710008-c9ac-4cbe-a06c-7911b85a8620",
   "metadata": {},
   "source": [
    "## 2. Import necessary packages"
   ]
  },
  {
   "cell_type": "code",
   "execution_count": null,
   "id": "cc2de6bf-a586-41a4-af82-4f880378b9ee",
   "metadata": {},
   "outputs": [],
   "source": [
    "import torch\n",
    "import os\n",
    "\n",
    "os.environ[\"WANDB_DISABLED\"] = \"true\"\n",
    "import transformers\n",
    "from transformers import AutoTokenizer\n",
    "from peft import LoraConfig\n",
    "from transformers import AutoModelForCausalLM\n",
    "from peft import get_peft_model, prepare_model_for_kbit_training\n",
    "from datasets import load_dataset\n",
    "from trl import SFTTrainer, SFTConfig"
   ]
  },
  {
   "cell_type": "markdown",
   "id": "db3356ab-1235-4190-8c0c-d6f71eab2a42",
   "metadata": {},
   "source": [
    "## 3. Load the model\n",
    "\n",
    "- Load the model and Tokenizer"
   ]
  },
  {
   "cell_type": "code",
   "execution_count": null,
   "id": "0268e73b-ebb4-4f2a-8dbb-f01a9517f25a",
   "metadata": {
    "scrolled": true
   },
   "outputs": [],
   "source": [
    "model_path = \"Qwen/Qwen2.5-0.5B\"\n",
    "\n",
    "tokenizer = AutoTokenizer.from_pretrained(model_path)\n",
    "\n",
    "ds = load_dataset(\"HuggingFaceTB/smoltalk\", \"everyday-conversations\")\n",
    "\n",
    "def process_dataset(sample):\n",
    "    messages = sample[\"messages\"]\n",
    "    # formatted = [ {\"role\": msg[\"role\"].lower(), \"content\": msg[\"content\"].lower()} for msg in messages]\n",
    "    sample = tokenizer.apply_chat_template(messages, tokenize=True, return_dict=True)\n",
    "    # print(sample)\n",
    "    return sample\n",
    "\n",
    "ds = ds.map(process_dataset)\n",
    "\n",
    "model = AutoModelForCausalLM.from_pretrained(model_path,\n",
    "                                              device_map=\"auto\")"
   ]
  },
  {
   "cell_type": "markdown",
   "id": "e294a583-bb29-4c57-bfec-91ae75d50775",
   "metadata": {},
   "source": [
    "## 4. Setup LoRA config"
   ]
  },
  {
   "cell_type": "code",
   "execution_count": null,
   "id": "03075e3e-145d-46a7-bd8a-a88479be9bb6",
   "metadata": {},
   "outputs": [],
   "source": [
    "peft_config = LoraConfig(\n",
    "    r=16,\n",
    "    lora_alpha=32,\n",
    "    lora_dropout=0.05,\n",
    "    target_modules=\"all-linear\",\n",
    "    modules_to_save=[\"lm_head\", \"embed_token\"],\n",
    "    task_type=\"CAUSAL_LM\",\n",
    ")"
   ]
  },
  {
   "cell_type": "markdown",
   "id": "2e7d98c2-85c7-47fe-b498-35e79147a55c",
   "metadata": {},
   "source": [
    "## 5. Run the SFTTrainer"
   ]
  },
  {
   "cell_type": "code",
   "execution_count": null,
   "id": "963aecd9-30d0-41fc-9ae3-8b586b7d1f54",
   "metadata": {
    "scrolled": true
   },
   "outputs": [],
   "source": [
    "finetuned_model = \"Qwen2.5-0.5B-SFT\"\n",
    "if torch.xpu.is_available():\n",
    "    torch.xpu.empty_cache()\n",
    "trainer = SFTTrainer(\n",
    "    model,\n",
    "    train_dataset=ds[\"train\"],\n",
    "    eval_dataset= ds[\"test\"],\n",
    "    args=SFTConfig(\n",
    "        per_device_train_batch_size=4,\n",
    "        gradient_accumulation_steps= 1,\n",
    "        warmup_steps=20,\n",
    "        max_steps=200,\n",
    "        learning_rate=2e-5,\n",
    "        save_steps=100,\n",
    "        bf16=True,  # bf16 is more stable in training\n",
    "        logging_steps=20,\n",
    "        output_dir=finetuned_model,\n",
    "        optim=\"adamw_torch\", # paged_adamw_8bit is not supported yet\n",
    "        report_to = None,\n",
    "        gradient_checkpointing=True, # can further reduce memory but slower        \n",
    "    ),\n",
    ")\n",
    "model.config.use_cache = False  # silence the warnings. Please re-enable for inference!\n",
    "result = trainer.train()\n",
    "print(result)"
   ]
  },
  {
   "cell_type": "markdown",
   "id": "d6fc337f-895b-4000-84a4-5999d8d39c80",
   "metadata": {},
   "source": [
    "## 6. Inference finetuned model\n",
    "\n",
    "* Run cell #2 to Import necessary packages"
   ]
  },
  {
   "cell_type": "code",
   "execution_count": null,
   "id": "091723a2-3045-48ba-84ae-0fb4a76e8f5c",
   "metadata": {},
   "outputs": [],
   "source": [
    "finetuned_model_path = f\"{finetuned_model}/checkpoint-200\"\n",
    "loaded_model = AutoModelForCausalLM.from_pretrained(finetuned_model_path, device_map=\"auto\")\n",
    "prompt = \"Once upon a time, a little girl\"\n",
    "tokenizer = AutoTokenizer.from_pretrained(finetuned_model_path)\n",
    "input_ids = tokenizer(prompt, return_tensors=\"pt\")[\"input_ids\"].to(\"xpu\")\n",
    "output = loaded_model.generate(input_ids, max_new_tokens=100, do_sample=True)\n",
    "print(tokenizer.batch_decode(output, skip_special_tokens=True))"
   ]
  }
 ],
 "metadata": {
  "kernelspec": {
   "display_name": "PyTorch 2.6",
   "language": "python",
   "name": "pytorch-2.6"
  },
  "language_info": {
   "codemirror_mode": {
    "name": "ipython",
    "version": 3
   },
   "file_extension": ".py",
   "mimetype": "text/x-python",
   "name": "python",
   "nbconvert_exporter": "python",
   "pygments_lexer": "ipython3",
   "version": "3.10.16"
  }
 },
 "nbformat": 4,
 "nbformat_minor": 5
}
